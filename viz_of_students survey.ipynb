{
 "cells": [
  {
   "cell_type": "code",
   "execution_count": 4,
   "metadata": {
    "ExecuteTime": {
     "end_time": "2019-03-20T21:25:13.488072Z",
     "start_time": "2019-03-20T21:25:13.482767Z"
    }
   },
   "outputs": [],
   "source": [
    "import pandas as pd\n",
    "import matplotlib.pyplot as plt\n",
    "%matplotlib inline"
   ]
  },
  {
   "cell_type": "markdown",
   "metadata": {},
   "source": [
    "# the data we got"
   ]
  },
  {
   "cell_type": "code",
   "execution_count": 25,
   "metadata": {
    "ExecuteTime": {
     "end_time": "2019-03-20T21:32:12.908466Z",
     "start_time": "2019-03-20T21:32:12.860051Z"
    }
   },
   "outputs": [],
   "source": [
    "df = pd.read_csv(\"dataviz.csv\")\n",
    "df = df[1:]\n",
    "\n",
    "column_dict = {}\n",
    "for a,b in enumerate(list(df.columns)):\n",
    "    column_dict[a] = b"
   ]
  },
  {
   "cell_type": "code",
   "execution_count": 202,
   "metadata": {
    "ExecuteTime": {
     "end_time": "2019-03-20T23:57:23.538370Z",
     "start_time": "2019-03-20T23:57:23.392061Z"
    }
   },
   "outputs": [
    {
     "data": {
      "text/html": [
       "<div>\n",
       "<style scoped>\n",
       "    .dataframe tbody tr th:only-of-type {\n",
       "        vertical-align: middle;\n",
       "    }\n",
       "\n",
       "    .dataframe tbody tr th {\n",
       "        vertical-align: top;\n",
       "    }\n",
       "\n",
       "    .dataframe thead th {\n",
       "        text-align: right;\n",
       "    }\n",
       "</style>\n",
       "<table border=\"1\" class=\"dataframe\">\n",
       "  <thead>\n",
       "    <tr style=\"text-align: right;\">\n",
       "      <th></th>\n",
       "      <th>0</th>\n",
       "      <th>1</th>\n",
       "      <th>2</th>\n",
       "      <th>3</th>\n",
       "      <th>4</th>\n",
       "      <th>5</th>\n",
       "      <th>6</th>\n",
       "      <th>7</th>\n",
       "      <th>8</th>\n",
       "      <th>9</th>\n",
       "      <th>10</th>\n",
       "      <th>11</th>\n",
       "      <th>12</th>\n",
       "      <th>13</th>\n",
       "      <th>14</th>\n",
       "      <th>15</th>\n",
       "      <th>16</th>\n",
       "      <th>17</th>\n",
       "      <th>18</th>\n",
       "    </tr>\n",
       "  </thead>\n",
       "  <tbody>\n",
       "    <tr>\n",
       "      <th>1</th>\n",
       "      <td>3/19/19 11:08</td>\n",
       "      <td>intensive but happy.</td>\n",
       "      <td>Python</td>\n",
       "      <td>Histogram</td>\n",
       "      <td>No</td>\n",
       "      <td>26.0</td>\n",
       "      <td>China</td>\n",
       "      <td>1</td>\n",
       "      <td>NaN</td>\n",
       "      <td>2.0</td>\n",
       "      <td>1</td>\n",
       "      <td>4.0</td>\n",
       "      <td>data visualization with real word applications.</td>\n",
       "      <td>no idea yet</td>\n",
       "      <td>dynamic plotting</td>\n",
       "      <td>to learn what is needed for a data scientist</td>\n",
       "      <td>2.0</td>\n",
       "      <td>5</td>\n",
       "      <td>4</td>\n",
       "    </tr>\n",
       "    <tr>\n",
       "      <th>2</th>\n",
       "      <td>3/19/19 11:08</td>\n",
       "      <td>It's intensive and the courses are helpful.</td>\n",
       "      <td>python</td>\n",
       "      <td>Scatterplot</td>\n",
       "      <td>No</td>\n",
       "      <td>28.0</td>\n",
       "      <td>Taiwan</td>\n",
       "      <td>2</td>\n",
       "      <td>NaN</td>\n",
       "      <td>3.0</td>\n",
       "      <td>1</td>\n",
       "      <td>4.0</td>\n",
       "      <td>Create cool visualization</td>\n",
       "      <td>Learn to create amazing visualization from the...</td>\n",
       "      <td>bubble plots</td>\n",
       "      <td>I hope I can visualize data fluently</td>\n",
       "      <td>4.0</td>\n",
       "      <td>5</td>\n",
       "      <td>3</td>\n",
       "    </tr>\n",
       "  </tbody>\n",
       "</table>\n",
       "</div>"
      ],
      "text/plain": [
       "              0                                            1       2   \\\n",
       "1  3/19/19 11:08                         intensive but happy.  Python   \n",
       "2  3/19/19 11:08  It's intensive and the courses are helpful.  python   \n",
       "\n",
       "            3   4     5       6   7    8    9   10   11  \\\n",
       "1    Histogram  No  26.0   China   1  NaN  2.0   1  4.0   \n",
       "2  Scatterplot  No  28.0  Taiwan   2  NaN  3.0   1  4.0   \n",
       "\n",
       "                                                12  \\\n",
       "1  data visualization with real word applications.   \n",
       "2                        Create cool visualization   \n",
       "\n",
       "                                                  13                14  \\\n",
       "1                                        no idea yet  dynamic plotting   \n",
       "2  Learn to create amazing visualization from the...      bubble plots   \n",
       "\n",
       "                                             15   16  17  18  \n",
       "1  to learn what is needed for a data scientist  2.0   5   4  \n",
       "2          I hope I can visualize data fluently  4.0   5   3  "
      ]
     },
     "execution_count": 202,
     "metadata": {},
     "output_type": "execute_result"
    }
   ],
   "source": [
    "df = df.rename(columns={x:y for x,y in zip(df.columns,range(0,len(df.columns)))})\n",
    "df.head(2)"
   ]
  },
  {
   "cell_type": "code",
   "execution_count": 122,
   "metadata": {
    "ExecuteTime": {
     "end_time": "2019-03-20T22:18:39.968588Z",
     "start_time": "2019-03-20T22:18:39.964129Z"
    }
   },
   "outputs": [
    {
     "data": {
      "text/plain": [
       "{0: 'Timestamp',\n",
       " 1: 'In one sentence describe how you feel about this program. (for sentiment analysis)',\n",
       " 2: 'Which programming language are you most comfortable using to make data visualizations?',\n",
       " 3: 'What is your favorite type of plot to make?',\n",
       " 4: 'Are you colorblind?',\n",
       " 5: 'How old are you?',\n",
       " 6: 'Where are you from?',\n",
       " 7: 'How difficult is it for you to make a barplot?',\n",
       " 8: \"What's your favorite visualization package?\",\n",
       " 9: 'How difficult is it for you to make a boxplot?',\n",
       " 10: 'How difficult is it for you to make a line graph?',\n",
       " 11: 'How difficult is it for you to make a stacked area graph?',\n",
       " 12: 'What are you most excited to learn about in this class?',\n",
       " 13: 'What are you least excited about in this class?',\n",
       " 14: \"What is one type of plot that you're curious about but haven't made before?\",\n",
       " 15: 'What do you want to get out of this class?',\n",
       " 16: 'How many hours a week do you expect to spend on hw for this course?',\n",
       " 17: 'How interested are you in participating in data visualization competitions (on reddit, kaggle, etc) as part of this course?',\n",
       " 18: 'How comfortable are you doing a presentation in front of 40-80 people?'}"
      ]
     },
     "execution_count": 122,
     "metadata": {},
     "output_type": "execute_result"
    }
   ],
   "source": [
    "column_dict"
   ]
  },
  {
   "cell_type": "markdown",
   "metadata": {},
   "source": [
    "# 1) Distribution of age"
   ]
  },
  {
   "cell_type": "code",
   "execution_count": 121,
   "metadata": {
    "ExecuteTime": {
     "end_time": "2019-03-20T22:17:55.983175Z",
     "start_time": "2019-03-20T22:17:55.466245Z"
    }
   },
   "outputs": [
    {
     "data": {
      "text/plain": [
       "<matplotlib.axes._subplots.AxesSubplot at 0x11253c2b0>"
      ]
     },
     "execution_count": 121,
     "metadata": {},
     "output_type": "execute_result"
    },
    {
     "data": {
      "image/png": "[encoded data removed]",
      "text/plain": [
       "<Figure size 432x288 with 1 Axes>"
      ]
     },
     "metadata": {},
     "output_type": "display_data"
    }
   ],
   "source": [
    "df[5].plot(kind='kde')"
   ]
  },
  {
   "cell_type": "markdown",
   "metadata": {},
   "source": [
    "# 2) Degree of difficulty of  boxplot, line graph and stacked area graph"
   ]
  },
  {
   "cell_type": "code",
   "execution_count": 201,
   "metadata": {
    "ExecuteTime": {
     "end_time": "2019-03-20T23:05:53.521033Z",
     "start_time": "2019-03-20T23:05:53.183935Z"
    }
   },
   "outputs": [
    {
     "data": {
      "image/png": "[encoded data removed]",
      "text/plain": [
       "<Figure size 1440x432 with 3 Axes>"
      ]
     },
     "metadata": {},
     "output_type": "display_data"
    }
   ],
   "source": [
    "fig, axes = plt.subplots(nrows=1, ncols=3,figsize=(20,6),sharex=True, sharey=True)\n",
    "ax1, ax2, ax3 = axes.flatten()\n",
    "\n",
    "ax1.bar([1,2,3,4,5], df[9].dropna().value_counts().sort_index(), label='difficulty of boxplot', color='lightblue')\n",
    "ax2.bar([1,2,3,4], df[10].dropna().value_counts().sort_index(), label='difficulty of line graph', color='lightblue')\n",
    "ax3.bar([1,2,3,4,5], df[11].dropna().value_counts().sort_index(), label = 'difficulty of stacked area graph', color='lightblue')\n",
    "\n",
    "ax1.set_title(\"Difficulty of boxplot\")\n",
    "ax2.set_title(\"Difficulty of line graph\")\n",
    "ax3.set_title(\"Difficulty of stacked area graph\")\n",
    "\n",
    "ax1.set_xlabel('Degree of difficulty')\n",
    "ax2.set_xlabel('Degree of difficulty')\n",
    "ax3.set_xlabel('Degree of difficulty')\n",
    "ax1.set_ylabel('Number of students')\n",
    "\n",
    "txt = None\n"
   ]
  },
  {
   "cell_type": "markdown",
   "metadata": {},
   "source": [
    "# 3) Languages that the students are familiar with"
   ]
  },
  {
   "cell_type": "code",
   "execution_count": 72,
   "metadata": {
    "ExecuteTime": {
     "end_time": "2019-03-20T21:55:24.846922Z",
     "start_time": "2019-03-20T21:55:24.842068Z"
    }
   },
   "outputs": [],
   "source": [
    "contain_python = df[2].str.contains('Python|python|matplotlib|seaborn', na=False).sum()\n",
    "contain_r = df[2].str.contains('R|r|ggplot|ggplot2', na=False).sum()\n",
    "contain_java = df[2].str.contains('JavaScript', na=False).sum()"
   ]
  },
  {
   "cell_type": "code",
   "execution_count": 86,
   "metadata": {
    "ExecuteTime": {
     "end_time": "2019-03-20T22:01:26.036664Z",
     "start_time": "2019-03-20T22:01:26.021339Z"
    }
   },
   "outputs": [],
   "source": [
    "programming = pd.DataFrame(columns = [\"programming language\", \"number of students know this language\"])\n",
    "programming['programming language']=['Python', 'R', 'JavaScript']\n",
    "programming['number of students know this language']=[contain_python, contain_r, contain_java]"
   ]
  },
  {
   "cell_type": "code",
   "execution_count": 87,
   "metadata": {
    "ExecuteTime": {
     "end_time": "2019-03-20T22:01:26.351373Z",
     "start_time": "2019-03-20T22:01:26.343285Z"
    },
    "scrolled": true
   },
   "outputs": [
    {
     "data": {
      "text/html": [
       "<div>\n",
       "<style scoped>\n",
       "    .dataframe tbody tr th:only-of-type {\n",
       "        vertical-align: middle;\n",
       "    }\n",
       "\n",
       "    .dataframe tbody tr th {\n",
       "        vertical-align: top;\n",
       "    }\n",
       "\n",
       "    .dataframe thead th {\n",
       "        text-align: right;\n",
       "    }\n",
       "</style>\n",
       "<table border=\"1\" class=\"dataframe\">\n",
       "  <thead>\n",
       "    <tr style=\"text-align: right;\">\n",
       "      <th></th>\n",
       "      <th>programming language</th>\n",
       "      <th>number of students know this language</th>\n",
       "    </tr>\n",
       "  </thead>\n",
       "  <tbody>\n",
       "    <tr>\n",
       "      <th>0</th>\n",
       "      <td>Python</td>\n",
       "      <td>59</td>\n",
       "    </tr>\n",
       "    <tr>\n",
       "      <th>1</th>\n",
       "      <td>R</td>\n",
       "      <td>28</td>\n",
       "    </tr>\n",
       "    <tr>\n",
       "      <th>2</th>\n",
       "      <td>JavaScript</td>\n",
       "      <td>1</td>\n",
       "    </tr>\n",
       "  </tbody>\n",
       "</table>\n",
       "</div>"
      ],
      "text/plain": [
       "  programming language  number of students know this language\n",
       "0               Python                                     59\n",
       "1                    R                                     28\n",
       "2           JavaScript                                      1"
      ]
     },
     "execution_count": 87,
     "metadata": {},
     "output_type": "execute_result"
    }
   ],
   "source": [
    "programming"
   ]
  },
  {
   "cell_type": "code",
   "execution_count": 200,
   "metadata": {
    "ExecuteTime": {
     "end_time": "2019-03-20T23:04:16.980331Z",
     "start_time": "2019-03-20T23:04:16.865641Z"
    },
    "scrolled": false
   },
   "outputs": [
    {
     "data": {
      "image/png": "[encoded data removed]",
      "text/plain": [
       "<Figure size 576x432 with 1 Axes>"
      ]
     },
     "metadata": {},
     "output_type": "display_data"
    }
   ],
   "source": [
    "plt.figure(figsize=(8,6))\n",
    "plt.hist(list(programming['programming language'].values), weights=programming['number of students know this language'].values, color='lightblue', bins=5)\n",
    "plt.title(\"The languages that students are familiar with\")\n",
    "plt.tick_params(axis='both', which='major', labelsize=18)\n",
    "plt.show()"
   ]
  },
  {
   "cell_type": "markdown",
   "metadata": {},
   "source": [
    "# 4) What is your favorite type of plot to make?"
   ]
  },
  {
   "cell_type": "code",
   "execution_count": 191,
   "metadata": {
    "ExecuteTime": {
     "end_time": "2019-03-20T22:55:16.326171Z",
     "start_time": "2019-03-20T22:55:16.114620Z"
    }
   },
   "outputs": [
    {
     "data": {
      "text/plain": [
       "Text(0,0.5,'')"
      ]
     },
     "execution_count": 191,
     "metadata": {},
     "output_type": "execute_result"
    },
    {
     "data": {
      "image/png": "[encoded data removed]",
      "text/plain": [
       "<Figure size 576x432 with 1 Axes>"
      ]
     },
     "metadata": {},
     "output_type": "display_data"
    }
   ],
   "source": [
    "ax = df[3].value_counts().sort_index().plot(kind='barh',\n",
    "                                    figsize=(8,6),\n",
    "                                    title=\"Students' favorite types of plot\")\n",
    "ax.set_xlabel(\"Number of students\")\n",
    "ax.set_ylabel(\"\")"
   ]
  },
  {
   "cell_type": "markdown",
   "metadata": {},
   "source": [
    "# 5) Are you comfortable with presentation ?"
   ]
  },
  {
   "cell_type": "code",
   "execution_count": 128,
   "metadata": {
    "ExecuteTime": {
     "end_time": "2019-03-20T22:22:16.763291Z",
     "start_time": "2019-03-20T22:22:16.622809Z"
    }
   },
   "outputs": [
    {
     "data": {
      "text/plain": [
       "[Text(0,0,'1'), Text(0,0,'2'), Text(0,0,'3'), Text(0,0,'4'), Text(0,0,'5')]"
      ]
     },
     "execution_count": 128,
     "metadata": {},
     "output_type": "execute_result"
    },
    {
     "data": {
      "image/png": "[encoded data removed]",
      "text/plain": [
       "<Figure size 576x432 with 1 Axes>"
      ]
     },
     "metadata": {},
     "output_type": "display_data"
    }
   ],
   "source": [
    "ax = df[18].value_counts().sort_index().plot(kind='bar',\n",
    "                                    figsize=(8,6),\n",
    "                                    title=\"Sessions happened on different weekdays\")\n",
    "ax.set_xlabel(\"degree of comfortable\")\n",
    "ax.set_ylabel(\"\")\n",
    "ax.set_xticklabels([1,2,3,4,5], rotation='horizontal')"
   ]
  }
 ],
 "metadata": {
  "kernelspec": {
   "display_name": "Python 3",
   "language": "python",
   "name": "python3"
  },
  "language_info": {
   "codemirror_mode": {
    "name": "ipython",
    "version": 3
   },
   "file_extension": ".py",
   "mimetype": "text/x-python",
   "name": "python",
   "nbconvert_exporter": "python",
   "pygments_lexer": "ipython3",
   "version": "3.6.5"
  }
 },
 "nbformat": 4,
 "nbformat_minor": 2
}
